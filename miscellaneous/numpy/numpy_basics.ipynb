{
 "cells": [
  {
   "cell_type": "code",
   "execution_count": 1,
   "id": "65df845d",
   "metadata": {},
   "outputs": [
    {
     "name": "stdout",
     "output_type": "stream",
     "text": [
      "3.9.13 (main, Aug 25 2022, 23:51:50) [MSC v.1916 64 bit (AMD64)]\n",
      "1.21.5\n"
     ]
    }
   ],
   "source": [
    "import numpy as np\n",
    "import sys\n",
    "print(sys.version)\n",
    "print(np.version.version)\n",
    "\n",
    "## use this site to get more numpy practise problems\n",
    "## https://www.geeksforgeeks.org/python-numpy-practice-exercises-questions-and-solutions/"
   ]
  },
  {
   "cell_type": "code",
   "execution_count": 2,
   "id": "22c2b1e6",
   "metadata": {},
   "outputs": [
    {
     "name": "stdout",
     "output_type": "stream",
     "text": [
      "[ 4 10 18 28 40]\n"
     ]
    }
   ],
   "source": [
    "a = np.array([1,2,3,4,5])\n",
    "b = np.array([4,5,6,7,8])\n",
    "\n",
    "print(a*b)"
   ]
  },
  {
   "cell_type": "code",
   "execution_count": 3,
   "id": "39527d9e",
   "metadata": {},
   "outputs": [],
   "source": [
    "x = np.array([[1,2,3],[1,2,3]])"
   ]
  },
  {
   "cell_type": "code",
   "execution_count": 4,
   "id": "e66cbc3a",
   "metadata": {},
   "outputs": [
    {
     "name": "stdout",
     "output_type": "stream",
     "text": [
      "1\n",
      "2\n"
     ]
    }
   ],
   "source": [
    "print(a.ndim)\n",
    "print(x.ndim)"
   ]
  },
  {
   "cell_type": "code",
   "execution_count": 5,
   "id": "7ed49998",
   "metadata": {},
   "outputs": [
    {
     "name": "stdout",
     "output_type": "stream",
     "text": [
      "(5,)\n",
      "(2, 3)\n"
     ]
    }
   ],
   "source": [
    "print(a.shape)\n",
    "print(x.shape)"
   ]
  },
  {
   "cell_type": "markdown",
   "id": "ac691e6c",
   "metadata": {},
   "source": [
    "#### convert data type reverse the numpy array"
   ]
  },
  {
   "cell_type": "code",
   "execution_count": 6,
   "id": "e42e6ec9",
   "metadata": {},
   "outputs": [
    {
     "name": "stdout",
     "output_type": "stream",
     "text": [
      "[  1   2   3   4  -8 -10]\n",
      "[-10  -8   4   3   2   1]\n",
      "Test by changing the input and see if its reflecting in output\n",
      "[  1   2   3   4  -8 100]\n",
      "[100  -8   4   3   2   1]\n"
     ]
    }
   ],
   "source": [
    "input = np.array([1,2,3,4,-8,-10]);\n",
    "print(input)\n",
    "## reverse the array\n",
    "output = input[::-1]\n",
    "##output = output.astype(float)\n",
    "print(output)\n",
    "#now change the input and see if its reflecting in output\n",
    "input[5] = 100\n",
    "\n",
    "print(\"Test by changing the input and see if its reflecting in output\")\n",
    "\n",
    "print(input)\n",
    "print(output)"
   ]
  },
  {
   "cell_type": "markdown",
   "id": "567c3e11",
   "metadata": {},
   "source": [
    "#### Reshape the numpy array"
   ]
  },
  {
   "cell_type": "code",
   "execution_count": 7,
   "id": "940959e8",
   "metadata": {},
   "outputs": [
    {
     "name": "stdout",
     "output_type": "stream",
     "text": [
      "[[1 2 3]\n",
      " [4 5 6]\n",
      " [7 8 9]]\n"
     ]
    }
   ],
   "source": [
    "input = np.array([1,2,3,4,5,6,7,8,9])\n",
    "output = np.reshape(input,(3,3))\n",
    "print(output)"
   ]
  },
  {
   "cell_type": "markdown",
   "id": "4dc1924f",
   "metadata": {},
   "source": [
    "#### Transpose and flatten array"
   ]
  },
  {
   "cell_type": "code",
   "execution_count": 8,
   "id": "7a3d52d3",
   "metadata": {},
   "outputs": [
    {
     "name": "stdout",
     "output_type": "stream",
     "text": [
      "*** transposed array *** \n",
      "[[1 4 7]\n",
      " [2 5 8]\n",
      " [3 6 9]]\n",
      "*** transposed and flattened array *** \n",
      "<built-in method flatten of numpy.ndarray object at 0x000000E4D78097B0>\n"
     ]
    }
   ],
   "source": [
    "#### Transpose array\n",
    "input = np.array([[1,2,3],[4,5,6],[7,8,9]])\n",
    "output = np.transpose(input)\n",
    "print(\"*** transposed array *** \")\n",
    "print(output)\n",
    "print(\"*** transposed and flattened array *** \")\n",
    "output = output.flatten\n",
    "print(output)"
   ]
  },
  {
   "cell_type": "code",
   "execution_count": 9,
   "id": "92302199",
   "metadata": {},
   "outputs": [],
   "source": [
    "#### zeros and ones "
   ]
  },
  {
   "cell_type": "code",
   "execution_count": 10,
   "id": "3eee93ee",
   "metadata": {},
   "outputs": [
    {
     "name": "stdout",
     "output_type": "stream",
     "text": [
      "[[0. 0. 0.]\n",
      " [0. 0. 0.]]\n",
      "[[1. 1. 1. 1. 1.]\n",
      " [1. 1. 1. 1. 1.]\n",
      " [1. 1. 1. 1. 1.]]\n"
     ]
    }
   ],
   "source": [
    "zeros = np.zeros([2,3])\n",
    "print(zeros)\n",
    "ones = np.ones([3,5])\n",
    "print(ones)"
   ]
  },
  {
   "cell_type": "markdown",
   "id": "63b31964",
   "metadata": {},
   "source": [
    "#### Basic maths"
   ]
  },
  {
   "cell_type": "code",
   "execution_count": 11,
   "id": "2e03ee8a",
   "metadata": {},
   "outputs": [
    {
     "name": "stdout",
     "output_type": "stream",
     "text": [
      "**** add 1d array \n",
      "\n",
      "[ 7  9 11 13 15]\n",
      "[ 7  9 11 13 15]\n",
      "\n",
      " **** add 2d array \n",
      "\n",
      "[[ 7  9 11 13 15]\n",
      " [ 7  9 11 13 15]]\n",
      "\n",
      " **** sum of matrix on axis \n",
      "\n",
      "[14 17 20]\n",
      "[ 6 18 27]\n",
      "\n",
      " **** 3d array \n",
      "\n",
      "\n",
      " **** first grid of 3d array \n",
      "\n",
      "[[ 0  1  2  3]\n",
      " [ 4  5  6  7]\n",
      " [ 8  9 10 11]]\n",
      "\n",
      " **** second grid of 3d array \n",
      "\n",
      "[[12 13 14 15]\n",
      " [16 17 18 19]\n",
      " [20 21 22 23]]\n",
      "\n",
      " **** sum of first and second grid of 3d array \n",
      "\n",
      "[[12 14 16 18]\n",
      " [20 22 24 26]\n",
      " [28 30 32 34]]\n",
      "\n",
      " **** 4d array \n",
      "\n",
      "\n",
      " **** first grid of 4d array \n",
      "\n",
      "[[ 0  1  2  3]\n",
      " [ 4  5  6  7]\n",
      " [ 8  9 10 11]]\n",
      "[[12 13 14 15]\n",
      " [16 17 18 19]\n",
      " [20 21 22 23]]\n",
      "\n",
      " **** second grid of 4d array \n",
      "\n",
      "[[24 25 26 27]\n",
      " [28 29 30 31]\n",
      " [32 33 34 35]]\n"
     ]
    }
   ],
   "source": [
    "## Add\n",
    "a = np.array([1,2,3,4,5])\n",
    "b = np.array([6,7,8,9,10])\n",
    "print(\"**** add 1d array \\n\")\n",
    "print(a+b)\n",
    "print(np.add(a,b))\n",
    "\n",
    "print(\"\\n **** add 2d array \\n\")\n",
    "x = np.array([[1,2,3,4,5],[6,7,8,9,10]])\n",
    "y = np.array([[6,7,8,9,10],[1,2,3,4,5]])\n",
    "print(np.add(x,y))\n",
    "\n",
    "## sum of array in given axis\n",
    "a = np.array([[1,2,3],[5,6,7],[8,9,10]])\n",
    "print(\"\\n **** sum of matrix on axis \\n\")\n",
    "print(np.sum(a,0))\n",
    "print(np.sum(a,1))\n",
    "\n",
    "\n",
    "print(\"\\n **** 3d array \\n\")\n",
    "a = np.arange(24)\n",
    "##create a 3d array of axis - 2,3,4.\n",
    "##it  is simlar to having two 3x4 matrices together\n",
    "a = a.reshape(2,3,4)\n",
    "\n",
    "##print first matrix in 3d array\n",
    "print(\"\\n **** first grid of 3d array \\n\")\n",
    "print(a[0])\n",
    "\n",
    "print(\"\\n **** second grid of 3d array \\n\")\n",
    "print(a[1])\n",
    "\n",
    "print(\"\\n **** sum of first and second grid of 3d array \\n\")\n",
    "print(a[0]+a[1])\n",
    "\n",
    "print(\"\\n **** 4d array \\n\")\n",
    "a = np.arange(48)\n",
    "##create a 4d array of axis - 2,2,3,4.\n",
    "##it is simlar to having two 3d array which is again two 2d array of 3x4 matrices together\n",
    "a = a.reshape(2,2,3,4)\n",
    "\n",
    "##print first matrix in 3d array\n",
    "print(\"\\n **** first grid of 4d array \\n\")\n",
    "print(a[0][0])\n",
    "print(a[0][1])\n",
    "\n",
    "print(\"\\n **** second grid of 4d array \\n\")\n",
    "print(a[1][0])\n",
    "\n"
   ]
  },
  {
   "cell_type": "markdown",
   "id": "74a49a1b",
   "metadata": {},
   "source": [
    "#### leet code problem with arrays to practise numpy\n",
    "There is a row of n houses, where each house can be painted one of three colors: red, blue, or green. The cost of painting each house with a certain color is different. You have to paint all the houses such that no two adjacent houses have the same color.The cost of painting each house with a certain color is represented by an n x 3 cost matrix costs.\n",
    "\n",
    "If the given array is — {17, 2, 1}, {16, 16, 1}, {14, 3, 19}, {3, 1, 8}\n",
    "then minimum cost of painting is 2 + 1 + 3 + 3 = 9"
   ]
  },
  {
   "cell_type": "code",
   "execution_count": 13,
   "id": "18119971",
   "metadata": {},
   "outputs": [],
   "source": [
    "##Start from second house\n",
    "def minCost(input):\n",
    "    result = np.zeros(input.shape)\n",
    "    nHouse = input.shape[0]\n",
    "    nCost = input.shape[1]\n",
    "    result[0] = input[0]\n",
    "\n",
    "    for i in range(1, nHouse):\n",
    "        for j in range(0, nCost):\n",
    "            if(j == 0):\n",
    "                result[i][j] = (input[i][j] + result[i-1][j+1])\n",
    "            if(j == nCost-1):\n",
    "                result[i][j] = (input[i][j] + result[i-1][j-1])\n",
    "            else:\n",
    "                result[i][j] = min((input[i][j] + result[i-1][j+1]), (input[i][j] + result[i-1][j-1]))\n",
    "    print(np.min(result[nHouse-1]))"
   ]
  },
  {
   "cell_type": "code",
   "execution_count": 15,
   "id": "b277081f",
   "metadata": {},
   "outputs": [
    {
     "name": "stdout",
     "output_type": "stream",
     "text": [
      "9.0\n",
      "10.0\n"
     ]
    }
   ],
   "source": [
    "input = np.array([[17,2,1],[16,16,1],[14,3,19],[3,1,8]])\n",
    "minCost(input)\n",
    "input = np.array([[14, 2, 11],[11, 14, 5],[14, 3, 10]])\n",
    "minCost(input)"
   ]
  }
 ],
 "metadata": {
  "kernelspec": {
   "display_name": "Python 3 (ipykernel)",
   "language": "python",
   "name": "python3"
  },
  "language_info": {
   "codemirror_mode": {
    "name": "ipython",
    "version": 3
   },
   "file_extension": ".py",
   "mimetype": "text/x-python",
   "name": "python",
   "nbconvert_exporter": "python",
   "pygments_lexer": "ipython3",
   "version": "3.9.13"
  }
 },
 "nbformat": 4,
 "nbformat_minor": 5
}
