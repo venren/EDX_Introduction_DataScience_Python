{
 "cells": [
  {
   "cell_type": "code",
   "execution_count": 8,
   "id": "5ab43857-aae7-49a5-a91a-2fdef935d53a",
   "metadata": {},
   "outputs": [],
   "source": [
    "import pandas as pd\n",
    "import numpy as np\n",
    "import wget"
   ]
  },
  {
   "cell_type": "code",
   "execution_count": 23,
   "id": "c19f6dd0-4aaa-4498-876e-06cfe54d41af",
   "metadata": {},
   "outputs": [
    {
     "name": "stdout",
     "output_type": "stream",
     "text": [
      "100% [..........................................................................] 1475504 / 1475504"
     ]
    },
    {
     "ename": "ValueError",
     "evalue": "not enough values to unpack (expected 2, got 1)",
     "output_type": "error",
     "traceback": [
      "\u001b[0;31m---------------------------------------------------------------------------\u001b[0m",
      "\u001b[0;31mValueError\u001b[0m                                Traceback (most recent call last)",
      "Cell \u001b[0;32mIn[23], line 2\u001b[0m\n\u001b[1;32m      1\u001b[0m \u001b[38;5;66;03m##Get the data\u001b[39;00m\n\u001b[0;32m----> 2\u001b[0m car_price_data \u001b[38;5;241m=\u001b[39m \u001b[43mwget\u001b[49m\u001b[38;5;241;43m.\u001b[39;49m\u001b[43mdownload\u001b[49m\u001b[43m(\u001b[49m\u001b[38;5;124;43m\"\u001b[39;49m\u001b[38;5;124;43mhttps://raw.githubusercontent.com/alexeygrigorev/mlbookcamp-code/master/chapter-02-car-price/data.csv\u001b[39;49m\u001b[38;5;124;43m\"\u001b[39;49m\u001b[43m,\u001b[49m\u001b[43m  \u001b[49m\u001b[43mout\u001b[49m\u001b[38;5;241;43m=\u001b[39;49m\u001b[38;5;124;43m\"\u001b[39;49m\u001b[38;5;124;43mcar_price_csv\u001b[39;49m\u001b[38;5;124;43m\"\u001b[39;49m\u001b[43m)\u001b[49m\n\u001b[1;32m      3\u001b[0m car_price_data \u001b[38;5;241m=\u001b[39m pd\u001b[38;5;241m.\u001b[39mread_csv(\u001b[38;5;124m\"\u001b[39m\u001b[38;5;124mcar_price_csv\u001b[39m\u001b[38;5;124m\"\u001b[39m )\n",
      "File \u001b[0;32m/usr/local/python/3.10.13/lib/python3.10/site-packages/wget.py:533\u001b[0m, in \u001b[0;36mdownload\u001b[0;34m(url, out, bar)\u001b[0m\n\u001b[1;32m    531\u001b[0m \u001b[38;5;66;03m# add numeric ' (x)' suffix if filename already exists\u001b[39;00m\n\u001b[1;32m    532\u001b[0m \u001b[38;5;28;01mif\u001b[39;00m os\u001b[38;5;241m.\u001b[39mpath\u001b[38;5;241m.\u001b[39mexists(filename):\n\u001b[0;32m--> 533\u001b[0m     filename \u001b[38;5;241m=\u001b[39m \u001b[43mfilename_fix_existing\u001b[49m\u001b[43m(\u001b[49m\u001b[43mfilename\u001b[49m\u001b[43m)\u001b[49m\n\u001b[1;32m    534\u001b[0m shutil\u001b[38;5;241m.\u001b[39mmove(tmpfile, filename)\n\u001b[1;32m    536\u001b[0m \u001b[38;5;66;03m#print headers\u001b[39;00m\n",
      "File \u001b[0;32m/usr/local/python/3.10.13/lib/python3.10/site-packages/wget.py:269\u001b[0m, in \u001b[0;36mfilename_fix_existing\u001b[0;34m(filename)\u001b[0m\n\u001b[1;32m    265\u001b[0m \u001b[38;5;250m\u001b[39m\u001b[38;5;124;03m\"\"\"Expands name portion of filename with numeric ' (x)' suffix to\u001b[39;00m\n\u001b[1;32m    266\u001b[0m \u001b[38;5;124;03mreturn filename that doesn't exist already.\u001b[39;00m\n\u001b[1;32m    267\u001b[0m \u001b[38;5;124;03m\"\"\"\u001b[39;00m\n\u001b[1;32m    268\u001b[0m dirname \u001b[38;5;241m=\u001b[39m \u001b[38;5;124mu\u001b[39m\u001b[38;5;124m'\u001b[39m\u001b[38;5;124m.\u001b[39m\u001b[38;5;124m'\u001b[39m\n\u001b[0;32m--> 269\u001b[0m name, ext \u001b[38;5;241m=\u001b[39m filename\u001b[38;5;241m.\u001b[39mrsplit(\u001b[38;5;124m'\u001b[39m\u001b[38;5;124m.\u001b[39m\u001b[38;5;124m'\u001b[39m, \u001b[38;5;241m1\u001b[39m)\n\u001b[1;32m    270\u001b[0m names \u001b[38;5;241m=\u001b[39m [x \u001b[38;5;28;01mfor\u001b[39;00m x \u001b[38;5;129;01min\u001b[39;00m os\u001b[38;5;241m.\u001b[39mlistdir(dirname) \u001b[38;5;28;01mif\u001b[39;00m x\u001b[38;5;241m.\u001b[39mstartswith(name)]\n\u001b[1;32m    271\u001b[0m names \u001b[38;5;241m=\u001b[39m [x\u001b[38;5;241m.\u001b[39mrsplit(\u001b[38;5;124m'\u001b[39m\u001b[38;5;124m.\u001b[39m\u001b[38;5;124m'\u001b[39m, \u001b[38;5;241m1\u001b[39m)[\u001b[38;5;241m0\u001b[39m] \u001b[38;5;28;01mfor\u001b[39;00m x \u001b[38;5;129;01min\u001b[39;00m names]\n",
      "\u001b[0;31mValueError\u001b[0m: not enough values to unpack (expected 2, got 1)"
     ]
    }
   ],
   "source": [
    "##Get the data\n",
    "car_price_data = wget.download(\"https://raw.githubusercontent.com/alexeygrigorev/mlbookcamp-code/master/chapter-02-car-price/data.csv\",  out=\"car_price_csv\")\n",
    "car_price_data = pd.read_csv(\"car_price_csv\" )"
   ]
  },
  {
   "cell_type": "code",
   "execution_count": 24,
   "id": "a760de69-5d07-4300-bba6-1d0539bde84d",
   "metadata": {},
   "outputs": [
    {
     "data": {
      "text/plain": [
       "(11914, 16)"
      ]
     },
     "execution_count": 24,
     "metadata": {},
     "output_type": "execute_result"
    }
   ],
   "source": [
    "#Q1\n",
    "car_price_data.shape"
   ]
  },
  {
   "cell_type": "code",
   "execution_count": 52,
   "id": "83971288-ee5f-4c86-bf43-4560b2250f19",
   "metadata": {},
   "outputs": [
    {
     "data": {
      "text/html": [
       "<div>\n",
       "<style scoped>\n",
       "    .dataframe tbody tr th:only-of-type {\n",
       "        vertical-align: middle;\n",
       "    }\n",
       "\n",
       "    .dataframe tbody tr th {\n",
       "        vertical-align: top;\n",
       "    }\n",
       "\n",
       "    .dataframe thead th {\n",
       "        text-align: right;\n",
       "    }\n",
       "</style>\n",
       "<table border=\"1\" class=\"dataframe\">\n",
       "  <thead>\n",
       "    <tr style=\"text-align: right;\">\n",
       "      <th></th>\n",
       "      <th>Make</th>\n",
       "      <th>count</th>\n",
       "    </tr>\n",
       "  </thead>\n",
       "  <tbody>\n",
       "    <tr>\n",
       "      <th>9</th>\n",
       "      <td>Chevrolet</td>\n",
       "      <td>1123</td>\n",
       "    </tr>\n",
       "    <tr>\n",
       "      <th>14</th>\n",
       "      <td>Ford</td>\n",
       "      <td>881</td>\n",
       "    </tr>\n",
       "    <tr>\n",
       "      <th>46</th>\n",
       "      <td>Volkswagen</td>\n",
       "      <td>809</td>\n",
       "    </tr>\n",
       "    <tr>\n",
       "      <th>45</th>\n",
       "      <td>Toyota</td>\n",
       "      <td>746</td>\n",
       "    </tr>\n",
       "    <tr>\n",
       "      <th>11</th>\n",
       "      <td>Dodge</td>\n",
       "      <td>626</td>\n",
       "    </tr>\n",
       "  </tbody>\n",
       "</table>\n",
       "</div>"
      ],
      "text/plain": [
       "          Make  count\n",
       "9    Chevrolet   1123\n",
       "14        Ford    881\n",
       "46  Volkswagen    809\n",
       "45      Toyota    746\n",
       "11       Dodge    626"
      ]
     },
     "execution_count": 52,
     "metadata": {},
     "output_type": "execute_result"
    }
   ],
   "source": [
    "#count by make column and get the top 5 cars \n",
    "car_price_data.groupby('Make').size().reset_index(name='count').sort_values(by='count', ascending=False).head(5)"
   ]
  },
  {
   "cell_type": "code",
   "execution_count": 66,
   "id": "fe7cf96e-611d-4a56-862e-e4bb2633288b",
   "metadata": {},
   "outputs": [
    {
     "data": {
      "text/plain": [
       "34"
      ]
     },
     "execution_count": 66,
     "metadata": {},
     "output_type": "execute_result"
    }
   ],
   "source": [
    "audi_model = car_price_data[car_price_data['Make'] == \"Audi\"][\"Model\"].unique()\n",
    "len(audi_model)"
   ]
  },
  {
   "cell_type": "code",
   "execution_count": 78,
   "id": "034cec23-8354-46f7-b6ed-fbf9dea13675",
   "metadata": {},
   "outputs": [
    {
     "data": {
      "text/plain": [
       "['Engine Fuel Type',\n",
       " 'Engine HP',\n",
       " 'Engine Cylinders',\n",
       " 'Number of Doors',\n",
       " 'Market Category']"
      ]
     },
     "execution_count": 78,
     "metadata": {},
     "output_type": "execute_result"
    }
   ],
   "source": [
    "car_price_data.columns[car_price_data.isnull().any()].tolist()"
   ]
  },
  {
   "cell_type": "code",
   "execution_count": 92,
   "id": "d27322c0-6ab4-4842-9371-26f89e42a54a",
   "metadata": {},
   "outputs": [],
   "source": [
    "prev_median = car_price_data['Engine Cylinders'].median()\n",
    "mode = car_price_data['Engine Cylinders'].mode()\n",
    "car_price_data['Engine Cylinders'].fillna(mode, inplace=True)\n",
    "new_median = car_price_data['Engine Cylinders'].median()\n",
    "assert(prev_median == new_median )"
   ]
  }
 ],
 "metadata": {
  "kernelspec": {
   "display_name": "Python 3 (ipykernel)",
   "language": "python",
   "name": "python3"
  },
  "language_info": {
   "codemirror_mode": {
    "name": "ipython",
    "version": 3
   },
   "file_extension": ".py",
   "mimetype": "text/x-python",
   "name": "python",
   "nbconvert_exporter": "python",
   "pygments_lexer": "ipython3",
   "version": "3.10.13"
  }
 },
 "nbformat": 4,
 "nbformat_minor": 5
}
